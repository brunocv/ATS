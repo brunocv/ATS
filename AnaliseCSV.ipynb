{
 "cells": [
  {
   "cell_type": "code",
   "execution_count": 1,
   "metadata": {},
   "outputs": [],
   "source": [
    "import pandas as pd\n",
    "import matplotlib.pyplot as plt\n",
    "import seaborn as sns\n",
    "import numpy as np\n",
    "import os"
   ]
  },
  {
   "cell_type": "code",
   "execution_count": 2,
   "metadata": {},
   "outputs": [],
   "source": [
    "df = pd.read_csv(\"statistics.csv\", sep = '\\s*,\\s*', engine = 'python')\n",
    "\n",
    "if not os.path.exists(\"../images\"):\n",
    "    os.makedirs(\"../images\")"
   ]
  },
  {
   "cell_type": "code",
   "execution_count": 3,
   "metadata": {},
   "outputs": [
    {
     "data": {
      "text/html": [
       "<div>\n",
       "<style scoped>\n",
       "    .dataframe tbody tr th:only-of-type {\n",
       "        vertical-align: middle;\n",
       "    }\n",
       "\n",
       "    .dataframe tbody tr th {\n",
       "        vertical-align: top;\n",
       "    }\n",
       "\n",
       "    .dataframe thead th {\n",
       "        text-align: right;\n",
       "    }\n",
       "</style>\n",
       "<table border=\"1\" class=\"dataframe\">\n",
       "  <thead>\n",
       "    <tr style=\"text-align: right;\">\n",
       "      <th></th>\n",
       "      <th>name</th>\n",
       "      <th>bugs</th>\n",
       "      <th>security_hotspots</th>\n",
       "      <th>code_smells</th>\n",
       "      <th>complexity</th>\n",
       "      <th>duplicated_lines</th>\n",
       "      <th>debt</th>\n",
       "    </tr>\n",
       "  </thead>\n",
       "  <tbody>\n",
       "    <tr>\n",
       "      <th>0</th>\n",
       "      <td>p0</td>\n",
       "      <td>17</td>\n",
       "      <td>2</td>\n",
       "      <td>448</td>\n",
       "      <td>596</td>\n",
       "      <td>3.4</td>\n",
       "      <td>4062</td>\n",
       "    </tr>\n",
       "    <tr>\n",
       "      <th>1</th>\n",
       "      <td>p1</td>\n",
       "      <td>15</td>\n",
       "      <td>2</td>\n",
       "      <td>217</td>\n",
       "      <td>607</td>\n",
       "      <td>0.0</td>\n",
       "      <td>2059</td>\n",
       "    </tr>\n",
       "    <tr>\n",
       "      <th>2</th>\n",
       "      <td>p2</td>\n",
       "      <td>5</td>\n",
       "      <td>4</td>\n",
       "      <td>226</td>\n",
       "      <td>360</td>\n",
       "      <td>8.2</td>\n",
       "      <td>1995</td>\n",
       "    </tr>\n",
       "    <tr>\n",
       "      <th>3</th>\n",
       "      <td>p3</td>\n",
       "      <td>14</td>\n",
       "      <td>5</td>\n",
       "      <td>215</td>\n",
       "      <td>434</td>\n",
       "      <td>0.0</td>\n",
       "      <td>1890</td>\n",
       "    </tr>\n",
       "    <tr>\n",
       "      <th>4</th>\n",
       "      <td>p4</td>\n",
       "      <td>13</td>\n",
       "      <td>0</td>\n",
       "      <td>328</td>\n",
       "      <td>393</td>\n",
       "      <td>4.6</td>\n",
       "      <td>3039</td>\n",
       "    </tr>\n",
       "  </tbody>\n",
       "</table>\n",
       "</div>"
      ],
      "text/plain": [
       "  name  bugs  security_hotspots  code_smells  complexity  duplicated_lines  \\\n",
       "0   p0    17                  2          448         596               3.4   \n",
       "1   p1    15                  2          217         607               0.0   \n",
       "2   p2     5                  4          226         360               8.2   \n",
       "3   p3    14                  5          215         434               0.0   \n",
       "4   p4    13                  0          328         393               4.6   \n",
       "\n",
       "   debt  \n",
       "0  4062  \n",
       "1  2059  \n",
       "2  1995  \n",
       "3  1890  \n",
       "4  3039  "
      ]
     },
     "execution_count": 3,
     "metadata": {},
     "output_type": "execute_result"
    }
   ],
   "source": [
    "df.head()"
   ]
  },
  {
   "cell_type": "code",
   "execution_count": 4,
   "metadata": {},
   "outputs": [
    {
     "name": "stdout",
     "output_type": "stream",
     "text": [
      "<class 'pandas.core.frame.DataFrame'>\n",
      "RangeIndex: 95 entries, 0 to 94\n",
      "Data columns (total 7 columns):\n",
      " #   Column             Non-Null Count  Dtype  \n",
      "---  ------             --------------  -----  \n",
      " 0   name               95 non-null     object \n",
      " 1   bugs               95 non-null     int64  \n",
      " 2   security_hotspots  95 non-null     int64  \n",
      " 3   code_smells        95 non-null     int64  \n",
      " 4   complexity         95 non-null     int64  \n",
      " 5   duplicated_lines   95 non-null     float64\n",
      " 6   debt               95 non-null     int64  \n",
      "dtypes: float64(1), int64(5), object(1)\n",
      "memory usage: 5.3+ KB\n"
     ]
    }
   ],
   "source": [
    "df.info()"
   ]
  },
  {
   "cell_type": "code",
   "execution_count": 3,
   "metadata": {},
   "outputs": [
    {
     "data": {
      "text/html": [
       "<div>\n",
       "<style scoped>\n",
       "    .dataframe tbody tr th:only-of-type {\n",
       "        vertical-align: middle;\n",
       "    }\n",
       "\n",
       "    .dataframe tbody tr th {\n",
       "        vertical-align: top;\n",
       "    }\n",
       "\n",
       "    .dataframe thead th {\n",
       "        text-align: right;\n",
       "    }\n",
       "</style>\n",
       "<table border=\"1\" class=\"dataframe\">\n",
       "  <thead>\n",
       "    <tr style=\"text-align: right;\">\n",
       "      <th></th>\n",
       "      <th>bugs</th>\n",
       "      <th>security_hotspots</th>\n",
       "      <th>code_smells</th>\n",
       "      <th>complexity</th>\n",
       "      <th>duplicated_lines</th>\n",
       "      <th>debt</th>\n",
       "    </tr>\n",
       "  </thead>\n",
       "  <tbody>\n",
       "    <tr>\n",
       "      <th>count</th>\n",
       "      <td>95.000000</td>\n",
       "      <td>95.000000</td>\n",
       "      <td>95.000000</td>\n",
       "      <td>95.000000</td>\n",
       "      <td>95.000000</td>\n",
       "      <td>95.000000</td>\n",
       "    </tr>\n",
       "    <tr>\n",
       "      <th>mean</th>\n",
       "      <td>18.642105</td>\n",
       "      <td>7.747368</td>\n",
       "      <td>362.147368</td>\n",
       "      <td>619.305263</td>\n",
       "      <td>5.177895</td>\n",
       "      <td>3669.768421</td>\n",
       "    </tr>\n",
       "    <tr>\n",
       "      <th>std</th>\n",
       "      <td>11.119195</td>\n",
       "      <td>13.353594</td>\n",
       "      <td>146.032055</td>\n",
       "      <td>188.399196</td>\n",
       "      <td>4.235443</td>\n",
       "      <td>1508.089714</td>\n",
       "    </tr>\n",
       "    <tr>\n",
       "      <th>min</th>\n",
       "      <td>0.000000</td>\n",
       "      <td>0.000000</td>\n",
       "      <td>151.000000</td>\n",
       "      <td>169.000000</td>\n",
       "      <td>0.000000</td>\n",
       "      <td>1349.000000</td>\n",
       "    </tr>\n",
       "    <tr>\n",
       "      <th>25%</th>\n",
       "      <td>12.500000</td>\n",
       "      <td>2.000000</td>\n",
       "      <td>255.500000</td>\n",
       "      <td>511.000000</td>\n",
       "      <td>2.500000</td>\n",
       "      <td>2613.000000</td>\n",
       "    </tr>\n",
       "    <tr>\n",
       "      <th>50%</th>\n",
       "      <td>17.000000</td>\n",
       "      <td>5.000000</td>\n",
       "      <td>325.000000</td>\n",
       "      <td>607.000000</td>\n",
       "      <td>4.200000</td>\n",
       "      <td>3423.000000</td>\n",
       "    </tr>\n",
       "    <tr>\n",
       "      <th>75%</th>\n",
       "      <td>22.000000</td>\n",
       "      <td>9.000000</td>\n",
       "      <td>433.000000</td>\n",
       "      <td>728.000000</td>\n",
       "      <td>6.950000</td>\n",
       "      <td>4327.000000</td>\n",
       "    </tr>\n",
       "    <tr>\n",
       "      <th>max</th>\n",
       "      <td>74.000000</td>\n",
       "      <td>123.000000</td>\n",
       "      <td>816.000000</td>\n",
       "      <td>1158.000000</td>\n",
       "      <td>20.800000</td>\n",
       "      <td>8170.000000</td>\n",
       "    </tr>\n",
       "  </tbody>\n",
       "</table>\n",
       "</div>"
      ],
      "text/plain": [
       "            bugs  security_hotspots  code_smells   complexity  \\\n",
       "count  95.000000          95.000000    95.000000    95.000000   \n",
       "mean   18.642105           7.747368   362.147368   619.305263   \n",
       "std    11.119195          13.353594   146.032055   188.399196   \n",
       "min     0.000000           0.000000   151.000000   169.000000   \n",
       "25%    12.500000           2.000000   255.500000   511.000000   \n",
       "50%    17.000000           5.000000   325.000000   607.000000   \n",
       "75%    22.000000           9.000000   433.000000   728.000000   \n",
       "max    74.000000         123.000000   816.000000  1158.000000   \n",
       "\n",
       "       duplicated_lines         debt  \n",
       "count         95.000000    95.000000  \n",
       "mean           5.177895  3669.768421  \n",
       "std            4.235443  1508.089714  \n",
       "min            0.000000  1349.000000  \n",
       "25%            2.500000  2613.000000  \n",
       "50%            4.200000  3423.000000  \n",
       "75%            6.950000  4327.000000  \n",
       "max           20.800000  8170.000000  "
      ]
     },
     "execution_count": 3,
     "metadata": {},
     "output_type": "execute_result"
    }
   ],
   "source": [
    "df.describe()"
   ]
  },
  {
   "cell_type": "code",
   "execution_count": 4,
   "metadata": {},
   "outputs": [
    {
     "data": {
      "image/png": "[encoded data removed]",
      "text/plain": [
       "<Figure size 360x360 with 1 Axes>"
      ]
     },
     "metadata": {
      "needs_background": "light"
     },
     "output_type": "display_data"
    }
   ],
   "source": [
    "sns.displot(df, x = 'bugs',kde=True,color ='red')\n",
    "plt.savefig('../images/hist_age.pdf', format='pdf')\n"
   ]
  },
  {
   "cell_type": "code",
   "execution_count": 6,
   "metadata": {},
   "outputs": [
    {
     "data": {
      "image/png": "[encoded data removed]",
      "text/plain": [
       "<Figure size 720x576 with 2 Axes>"
      ]
     },
     "metadata": {
      "needs_background": "light"
     },
     "output_type": "display_data"
    }
   ],
   "source": [
    "#correlação entre variáveis.\n",
    "corr = df.corr(\"kendall\")\n",
    "plt.figure(figsize = (10,8))\n",
    "sns_plot = sns.heatmap(corr[(corr >= 0.01) | (corr <= -0.01)], \n",
    "                       cmap = 'flare', vmax = 1, vmin = -1.0, linewidths = 0.1, annot = True, annot_kws = {\"size\":8}, square = True)\n",
    "\n",
    "plt.gcf().subplots_adjust(bottom=0.20)\n",
    "plt.gcf().subplots_adjust(left=0.20)\n",
    "plt.savefig('../images/heatmap.eps', format='eps')\n"
   ]
  },
  {
   "cell_type": "code",
   "execution_count": 7,
   "metadata": {},
   "outputs": [
    {
     "data": {
      "text/plain": [
       "<Figure size 3600x720 with 0 Axes>"
      ]
     },
     "metadata": {},
     "output_type": "display_data"
    },
    {
     "data": {
      "image/png": "[encoded data removed]",
      "text/plain": [
       "<Figure size 2219.25x360 with 1 Axes>"
      ]
     },
     "metadata": {
      "needs_background": "light"
     },
     "output_type": "display_data"
    }
   ],
   "source": [
    "\n",
    "#sns.displot(x = 'name', y='code_smells', data = df)\n",
    "df[\"debt_days\"]=(df[\"debt\"] / 60)/8\n",
    "plt.figure(figsize = (50,10))\n",
    "sns.relplot(\n",
    "    data=df,\n",
    "    x=\"name\", y=\"code_smells\",hue=\"debt_days\",aspect=6,palette=\"rocket_r\"\n",
    ")\n",
    "plt.gcf().subplots_adjust(left=0.05)\n",
    "plt.gcf().subplots_adjust(bottom=0.20)\n",
    "\n",
    "plt.savefig('../images/code_smells_Time.eps', format='eps')\n",
    "\n",
    "\n"
   ]
  },
  {
   "cell_type": "code",
   "execution_count": 8,
   "metadata": {},
   "outputs": [
    {
     "data": {
      "text/html": [
       "<div>\n",
       "<style scoped>\n",
       "    .dataframe tbody tr th:only-of-type {\n",
       "        vertical-align: middle;\n",
       "    }\n",
       "\n",
       "    .dataframe tbody tr th {\n",
       "        vertical-align: top;\n",
       "    }\n",
       "\n",
       "    .dataframe thead th {\n",
       "        text-align: right;\n",
       "    }\n",
       "</style>\n",
       "<table border=\"1\" class=\"dataframe\">\n",
       "  <thead>\n",
       "    <tr style=\"text-align: right;\">\n",
       "      <th></th>\n",
       "      <th>bugs</th>\n",
       "      <th>security_hotspots</th>\n",
       "      <th>code_smells</th>\n",
       "      <th>complexity</th>\n",
       "      <th>duplicated_lines</th>\n",
       "      <th>debt</th>\n",
       "      <th>debt_days</th>\n",
       "    </tr>\n",
       "  </thead>\n",
       "  <tbody>\n",
       "    <tr>\n",
       "      <th>count</th>\n",
       "      <td>95.000000</td>\n",
       "      <td>95.000000</td>\n",
       "      <td>95.000000</td>\n",
       "      <td>95.000000</td>\n",
       "      <td>95.000000</td>\n",
       "      <td>95.000000</td>\n",
       "      <td>95.000000</td>\n",
       "    </tr>\n",
       "    <tr>\n",
       "      <th>mean</th>\n",
       "      <td>18.378947</td>\n",
       "      <td>7.968421</td>\n",
       "      <td>264.989474</td>\n",
       "      <td>700.726316</td>\n",
       "      <td>5.546316</td>\n",
       "      <td>2583.347368</td>\n",
       "      <td>5.381974</td>\n",
       "    </tr>\n",
       "    <tr>\n",
       "      <th>std</th>\n",
       "      <td>11.313877</td>\n",
       "      <td>13.778223</td>\n",
       "      <td>129.842416</td>\n",
       "      <td>824.505015</td>\n",
       "      <td>6.183675</td>\n",
       "      <td>1225.457872</td>\n",
       "      <td>2.553037</td>\n",
       "    </tr>\n",
       "    <tr>\n",
       "      <th>min</th>\n",
       "      <td>0.000000</td>\n",
       "      <td>0.000000</td>\n",
       "      <td>108.000000</td>\n",
       "      <td>169.000000</td>\n",
       "      <td>0.000000</td>\n",
       "      <td>1110.000000</td>\n",
       "      <td>2.312500</td>\n",
       "    </tr>\n",
       "    <tr>\n",
       "      <th>25%</th>\n",
       "      <td>11.000000</td>\n",
       "      <td>2.000000</td>\n",
       "      <td>173.500000</td>\n",
       "      <td>511.000000</td>\n",
       "      <td>2.500000</td>\n",
       "      <td>1770.500000</td>\n",
       "      <td>3.688542</td>\n",
       "    </tr>\n",
       "    <tr>\n",
       "      <th>50%</th>\n",
       "      <td>17.000000</td>\n",
       "      <td>5.000000</td>\n",
       "      <td>226.000000</td>\n",
       "      <td>607.000000</td>\n",
       "      <td>4.200000</td>\n",
       "      <td>2214.000000</td>\n",
       "      <td>4.612500</td>\n",
       "    </tr>\n",
       "    <tr>\n",
       "      <th>75%</th>\n",
       "      <td>22.000000</td>\n",
       "      <td>9.500000</td>\n",
       "      <td>315.500000</td>\n",
       "      <td>736.000000</td>\n",
       "      <td>7.150000</td>\n",
       "      <td>3028.000000</td>\n",
       "      <td>6.308333</td>\n",
       "    </tr>\n",
       "    <tr>\n",
       "      <th>max</th>\n",
       "      <td>74.000000</td>\n",
       "      <td>123.000000</td>\n",
       "      <td>822.000000</td>\n",
       "      <td>8441.000000</td>\n",
       "      <td>50.600000</td>\n",
       "      <td>6567.000000</td>\n",
       "      <td>13.681250</td>\n",
       "    </tr>\n",
       "  </tbody>\n",
       "</table>\n",
       "</div>"
      ],
      "text/plain": [
       "            bugs  security_hotspots  code_smells   complexity  \\\n",
       "count  95.000000          95.000000    95.000000    95.000000   \n",
       "mean   18.378947           7.968421   264.989474   700.726316   \n",
       "std    11.313877          13.778223   129.842416   824.505015   \n",
       "min     0.000000           0.000000   108.000000   169.000000   \n",
       "25%    11.000000           2.000000   173.500000   511.000000   \n",
       "50%    17.000000           5.000000   226.000000   607.000000   \n",
       "75%    22.000000           9.500000   315.500000   736.000000   \n",
       "max    74.000000         123.000000   822.000000  8441.000000   \n",
       "\n",
       "       duplicated_lines         debt  debt_days  \n",
       "count         95.000000    95.000000  95.000000  \n",
       "mean           5.546316  2583.347368   5.381974  \n",
       "std            6.183675  1225.457872   2.553037  \n",
       "min            0.000000  1110.000000   2.312500  \n",
       "25%            2.500000  1770.500000   3.688542  \n",
       "50%            4.200000  2214.000000   4.612500  \n",
       "75%            7.150000  3028.000000   6.308333  \n",
       "max           50.600000  6567.000000  13.681250  "
      ]
     },
     "execution_count": 8,
     "metadata": {},
     "output_type": "execute_result"
    }
   ],
   "source": [
    "df.describe()"
   ]
  },
  {
   "cell_type": "code",
   "execution_count": null,
   "metadata": {},
   "outputs": [],
   "source": []
  }
 ],
 "metadata": {
  "kernelspec": {
   "display_name": "Python 3",
   "language": "python",
   "name": "python3"
  },
  "language_info": {
   "codemirror_mode": {
    "name": "ipython",
    "version": 3
   },
   "file_extension": ".py",
   "mimetype": "text/x-python",
   "name": "python",
   "nbconvert_exporter": "python",
   "pygments_lexer": "ipython3",
   "version": "3.8.5"
  }
 },
 "nbformat": 4,
 "nbformat_minor": 4
}
